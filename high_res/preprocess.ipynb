{
 "cells": [
  {
   "cell_type": "code",
   "execution_count": 16,
   "metadata": {},
   "outputs": [],
   "source": [
    "# Author: Joshua Soutelo Vieira\n",
    "# Date: 05/27/2021"
   ]
  },
  {
   "cell_type": "markdown",
   "metadata": {},
   "source": [
    "EMNIST paper https://arxiv.org/pdf/1702.05373.pdf\n",
    "\n",
    "The main goal of this script is to achieve the same resluting image (e) as shown in the banner. \n",
    "![https://www.kaggle.com/crawford/emnist](dataset-cover.png \"Objective\")"
   ]
  },
  {
   "cell_type": "code",
   "execution_count": 2,
   "metadata": {},
   "outputs": [],
   "source": [
    "import os\n",
    "\n",
    "import cv2\n",
    "import numpy as np\n",
    "from PIL import Image\n",
    "from matplotlib import pyplot as plt\n",
    "\n",
    "%matplotlib inline"
   ]
  },
  {
   "cell_type": "code",
   "execution_count": 3,
   "metadata": {},
   "outputs": [],
   "source": [
    "DATA_FOLDER = \"data\"\n",
    "OUTPUT_FOLDER = \"output\"\n",
    "OUTPUT_FOLDER_MANUAL_THRESH = \"output_manual_thresh\""
   ]
  },
  {
   "cell_type": "code",
   "execution_count": 4,
   "metadata": {},
   "outputs": [],
   "source": [
    "def grab_images(folder):\n",
    "    paths = os.listdir(folder)\n",
    "    return [f\"{DATA_FOLDER}/{path}\" for path in paths]\n",
    "\n",
    "def show_image(image, name=None):\n",
    "    plt.title(name)\n",
    "    plt.xlabel(str(image.shape[1]) + \" px\")\n",
    "    plt.ylabel(str(image.shape[0]) + \" px\")\n",
    "    plt.xticks([])\n",
    "    plt.yticks([])\n",
    "    plt.imshow(cv2.cvtColor(image, cv2.COLOR_BGR2RGB))\n",
    "    plt.show()\n",
    "\n",
    "img_paths = grab_images(DATA_FOLDER)"
   ]
  },
  {
   "cell_type": "markdown",
   "metadata": {},
   "source": [
    "**1. From RGB image to Black and White**\n",
    "\n",
    "First of all we need to read the image with a grayscale image codec before apply the treshold function. This is achieved in the `cv2.imread` function. \n",
    "\n",
    "We make use of the Otsu algorithm `cv2.THRESH_OTSU` to find the optimal threshold value. \n",
    "\n",
    "Then, we use it in `cv2.THRESH_BINARY_INV` to perform the actual thresholding as dictates its equation:\n",
    "\n",
    "$$ dst(x,y) = \\left\\{ \\begin{array}{cl}\n",
    "0 & : \\ src(x,y) \\gt tresh \\\\\n",
    "maxval & : \\ otherwise\n",
    "\\end{array} \\right. $$"
   ]
  },
  {
   "cell_type": "code",
   "execution_count": 15,
   "metadata": {},
   "outputs": [],
   "source": [
    "# Gray scale image + Tresholding => B&W image\n",
    "def bw(image, threshold=None, show=False):\n",
    "    # First transform the image to gray scale\n",
    "    gray_img = cv2.imread(image, cv2.IMREAD_GRAYSCALE)\n",
    "    # Sometimes we choose to set the threshold manually assuming that the Otsu algorithm wasn't unable to find a proper one\n",
    "    if threshold:\n",
    "        (thresh, bw_img) = cv2.threshold(gray_img, threshold, 255, cv2.THRESH_BINARY_INV)\n",
    "    else:\n",
    "        # Treshold set to -0 to point out that it's Otsu's algorithm job to decide it\n",
    "        (thresh, bw_img) = cv2.threshold(gray_img, -0, 255, cv2.THRESH_BINARY_INV | cv2.THRESH_OTSU)\n",
    "    if show:\n",
    "        show_image(gray_img, \"Gray scale\")\n",
    "        show_image(bw_img, \"Trehshold (B&W)\")\n",
    "    \n",
    "    return bw_img"
   ]
  },
  {
   "cell_type": "markdown",
   "metadata": {},
   "source": [
    "**2. Perform Gaussian Blur over the B&W image**\n",
    "\n",
    "We use a kernel of size 3x3 with a sigma of .5. \n",
    "\n",
    "The intuition behind the decission of the kernel size is that we had at most 40-50 dimensions in one axis of very few instances. So, choosing a bigger kernel would take into account the majority of the pixels of the image. \n",
    "\n",
    "And because images are so small already we needed a kernel that faded really quickly. So we have a bright spot in the middle, and almost faded spots surrounding it. Since only `sigmaX` is set, `sigmaY` takes it's same value.\n"
   ]
  },
  {
   "cell_type": "code",
   "execution_count": 6,
   "metadata": {},
   "outputs": [],
   "source": [
    "# Gaussian Blur\n",
    "def gauss_blur(image, show=False):\n",
    "    \n",
    "    gauss_img = cv2.GaussianBlur(\n",
    "        src=image,\n",
    "        ksize=(3,3),\n",
    "        sigmaX=.5)\n",
    "    \n",
    "    if show: show_image(gauss_img, \"Gaussian Blur\")\n",
    "    \n",
    "    return gauss_img"
   ]
  },
  {
   "cell_type": "markdown",
   "metadata": {},
   "source": [
    "**3. Region Of Interest Extraction**\n",
    "\n",
    "The approach here was to compute the ROI in the B&W image and then apply the contours to the Gaussian blurred image.\n",
    "\n",
    "Countours are founded using the `cv2.findContours`. The countour retrival mehtod is `cv2.RETR_EXTERNAL`, from the docs we see that it retrieves only the extreme outer contours. As for the contour aproximaton method we use `cv2.CHAIN_APPROX_NONE` that stores absolutely all the contour points.\n",
    "\n",
    "The `if...else` inside the function controls if there is more than one rectagle found in the contours. That happens when the image is an \"i\". It finds a contour for the stick and a different one for the dot. When we face that situation we have to make a single extraction of the more adjusted coordinates of both contours.\n",
    "\n",
    "The logic for that is:\n",
    "1. Take the outer x or y position (the leftmost or upmost)\n",
    "2. Advance by that amount\n",
    "3. Add the difference between the bigger and the smaller one (x or y)\n",
    "4. Add the width or height of the bigger coordinate\n",
    "\n",
    "*Example.*\n",
    "Imagine that we have this two rectangles `rects = [(5, 9, 5, 10), (6, 3, 3, 4)] #(x, y, w, h)`. We take the outmost x and y. So no we have that `y=3` and `x=5`. Now, we need to add the difference with the big corresponding coordinate and add its height or width."
   ]
  },
  {
   "cell_type": "code",
   "execution_count": 7,
   "metadata": {},
   "outputs": [],
   "source": [
    "# print(rects) [(5, 9, 5, 10), (6, 3, 3, 4)]\n",
    "# x, y, w, h = rects[0]\n",
    "# roi = gauss_img[y:y+h, x:x+w]\n",
    "# roi = gauss_img[3:3+(6+10), 5:5+(1+4)]\n",
    "\n",
    "# ROI Extraction\n",
    "def roi(bw_img, gauss_img, cls, show=False):\n",
    "    ctrs, hier = cv2.findContours(bw_img, cv2.RETR_EXTERNAL, cv2.CHAIN_APPROX_NONE)\n",
    "    rects = [cv2.boundingRect(ctr) for ctr in ctrs]\n",
    "    #print(rects)\n",
    "    if len(rects) == 1: # Only one contour found\n",
    "        x, y, w, h = rects[0]\n",
    "    elif len(rects) == 2 and (cls == 'i' or cls == '5'):\n",
    "        x1, y1, w1, h1 = rects[0]\n",
    "        x2, y2, w2, h2 = rects[1]\n",
    "        y = min(y1, y2)\n",
    "        # The distance between the two + the height of the contrary\n",
    "        h = (y1 - y2 if y1 > y2 else y2 - y1) + (h1 if y != y1 else h2)\n",
    "        x = min(x1, x2)\n",
    "        # The distance between the two + the width of the contrary\n",
    "        w = x1 - x2 if x1 > x2 else x2 - x1 + (w1 if x != x1 else w2)\n",
    "    elif len(rects) == 2 and cls == '1':\n",
    "        x1, y1, w1, h1 = rects[0]\n",
    "        x2, y2, w2, h2 = rects[1]\n",
    "        y = y1 if h1 > h2 else y2\n",
    "        h = h1 if h1 > h2 else h2\n",
    "        x = x1 if h1 > h2 else x2\n",
    "        w = w1 if h1 > h2 else w2\n",
    "        \n",
    "    elif len(rects) == 3 and cls == '1':\n",
    "        x, y, w, h = (0, 0, 0, 0)\n",
    "        # Sets as valid the thicker one\n",
    "        for r in rects:\n",
    "            x1, y1, w1, h1 = r\n",
    "            if w1 > w: x, y, w, h = r\n",
    "    \n",
    "    elif len(rects) == 4 and cls == '0':\n",
    "        x, y, w, h = (0, 0, 0, 0)\n",
    "        # Sets as valid the thicker one\n",
    "        for r in rects:\n",
    "            x1, y1, w1, h1 = r\n",
    "            if w1 > w and h1 > h: x, y, w, h = r \n",
    "    else:\n",
    "        # If it enters here, a new edge case was found...\n",
    "        # I'm assuming that the biggest rectangle will always contain the true region of interest\n",
    "        #print(rects)\n",
    "        x, y, w, h = (0, 0, 0, 0)\n",
    "        for r in rects:\n",
    "            x1, y1, w1, h1 = r\n",
    "            if w1 > w and h1 > h: x, y, w, h = r \n",
    "                \n",
    "    roi = gauss_img[y:y+h, x:x+w]\n",
    "    \n",
    "    if show: show_image(roi, \"ROI\")\n",
    "    \n",
    "    return roi"
   ]
  },
  {
   "cell_type": "markdown",
   "metadata": {},
   "source": [
    "**4. Padding and resizing the image** \n",
    "\n",
    "From the EMNIST paper we see that to obtain the final result they did:\n",
    "1. Center the extracted region of interest in a square frame with lengths equal to the largest dimension, with the aspect ratio of the extracted region of interest preserved.\n",
    "2. Pad this square frame with an empty 2 pixel border to prevent the digits and characters from touching the border.\n",
    "3. Lastly, image is down-sampled to 28 × 28 pixels using a bi-cubic interpolation algorithm.\n",
    "\n",
    "The scale is preserved when in the `cv2.resize` we use `fx=1` and `fy=1`. On the other hand, to upscale or downscale using a bi-cubic interpolation algorithm the `interpolation` flag is set to `cv2.INTER_CUBIC`."
   ]
  },
  {
   "cell_type": "code",
   "execution_count": 12,
   "metadata": {},
   "outputs": [],
   "source": [
    "def pad_resize(roi_img, show=False):\n",
    "    # From EMNIST paper...\n",
    "    \n",
    "    # Extracted ROI centered in a square frame with lengths equal to the largest dimension\n",
    "    h, w = roi_img.shape\n",
    "    l_dim = max(h, w)\n",
    "    bg_img = np.zeros((l_dim, l_dim)).astype('uint8')\n",
    "    \n",
    "    # Compute xoff and yoff for placement of upper left corner of resized image\n",
    "    yoff = round((l_dim-h)/2)\n",
    "    xoff = round((l_dim-w)/2)\n",
    "\n",
    "    cent_img = bg_img.copy()\n",
    "    cent_img[yoff:yoff+h, xoff:xoff+w] = roi_img\n",
    "    if show: show_image(cent_img, \"Centered\")\n",
    "\n",
    "    # Square frame padded with two empty pixels\n",
    "    pad_img = cv2.copyMakeBorder(cent_img, 2, 2, 2, 2, cv2.BORDER_CONSTANT, None, 0)\n",
    "    if show: show_image(pad_img, \"Padded\")\n",
    "\n",
    "    # Downscale or upscale https://www.tutorialkart.com/opencv/python/opencv-python-resize-image/\n",
    "    #res_img = cv2.resize(src=pad_img, dsize=(28,28), fx=1, fy=1, interpolation=cv2.INTER_CUBIC)\n",
    "    res_img = cv2.resize(src=pad_img, dsize=(28,28), interpolation=cv2.INTER_CUBIC)\n",
    "    if show: show_image(res_img, \"Resized Image\")\n",
    "    \n",
    "    return res_img"
   ]
  },
  {
   "cell_type": "code",
   "execution_count": 14,
   "metadata": {
    "scrolled": false
   },
   "outputs": [
    {
     "data": {
      "image/png": "[encoded data removed]",
      "text/plain": [
       "<Figure size 432x288 with 1 Axes>"
      ]
     },
     "metadata": {},
     "output_type": "display_data"
    },
    {
     "data": {
      "image/png": "[encoded data removed]",
      "text/plain": [
       "<Figure size 432x288 with 1 Axes>"
      ]
     },
     "metadata": {},
     "output_type": "display_data"
    },
    {
     "data": {
      "image/png": "[encoded data removed]",
      "text/plain": [
       "<Figure size 432x288 with 1 Axes>"
      ]
     },
     "metadata": {},
     "output_type": "display_data"
    },
    {
     "data": {
      "image/png": "[encoded data removed]",
      "text/plain": [
       "<Figure size 432x288 with 1 Axes>"
      ]
     },
     "metadata": {},
     "output_type": "display_data"
    },
    {
     "data": {
      "image/png": "[encoded data removed]",
      "text/plain": [
       "<Figure size 432x288 with 1 Axes>"
      ]
     },
     "metadata": {},
     "output_type": "display_data"
    },
    {
     "data": {
      "image/png": "[encoded data removed]",
      "text/plain": [
       "<Figure size 432x288 with 1 Axes>"
      ]
     },
     "metadata": {},
     "output_type": "display_data"
    },
    {
     "data": {
      "image/png": "[encoded data removed]",
      "text/plain": [
       "<Figure size 432x288 with 1 Axes>"
      ]
     },
     "metadata": {},
     "output_type": "display_data"
    },
    {
     "data": {
      "image/png": "[encoded data removed]",
      "text/plain": [
       "<Figure size 432x288 with 1 Axes>"
      ]
     },
     "metadata": {},
     "output_type": "display_data"
    }
   ],
   "source": [
    "### Testing area ###\n",
    "\n",
    "indx = [i for i, s in enumerate(img_paths) if \"field_70_E\" in s][0]\n",
    "img_path = img_paths[indx]\n",
    "\n",
    "img_name = img_path.split(\"/\")[1]\n",
    "cls = img_name.split(\"_\")[0]\n",
    "\n",
    "img = cv2.imread(img_path)\n",
    "show_image(img, img_path)\n",
    "\n",
    "bw_img = bw(img_path, show=True)\n",
    "gauss_img = gauss_blur(bw_img, True)\n",
    "roi_img = roi(bw_img, gauss_img, cls, True)\n",
    "result = pad_resize(roi_img, True)"
   ]
  },
  {
   "cell_type": "code",
   "execution_count": 144,
   "metadata": {},
   "outputs": [
    {
     "name": "stdout",
     "output_type": "stream",
     "text": [
      "field_75_A_2.jpg\n",
      "field_178_1_25.jpg\n",
      "field_45_0_3.jpg\n",
      "field_23_4_1.jpg\n",
      "field_182_7_13.jpg\n",
      "field_127_7_8.jpg\n",
      "field_126_7_7.jpg\n",
      "field_141_h_1.jpg\n",
      "field_13_6_0.jpg\n",
      "field_10_S_1.jpg\n",
      "field_42_8_0.jpg\n",
      "field_63_W_3.jpg\n",
      "field_27_a_0.jpg\n",
      "field_73_7_4.jpg\n",
      "field_87_2_2.jpg\n",
      "field_84_N_2.jpg\n",
      "field_107_I_3.jpg\n",
      "field_145_9_3.jpg\n",
      "field_33_3_1.jpg\n",
      "field_5_L_0.jpg\n",
      "field_146_9_4.jpg\n",
      "field_188_1_27.jpg\n",
      "field_117_T_4.jpg\n",
      "field_131_5_6.jpg\n",
      "field_2_S_0.jpg\n",
      "field_59_I_2.jpg\n",
      "field_155_0_12.jpg\n",
      "field_8_T_0.jpg\n",
      "field_65_M_0.jpg\n",
      "field_32_1_2.jpg\n",
      "field_151_2_11.jpg\n",
      "field_191_5_16.jpg\n",
      "field_152_5_10.jpg\n",
      "field_179_5_13.jpg\n",
      "field_169_2_13.jpg\n",
      "field_109_1_9.jpg\n",
      "field_142_I_4.jpg\n",
      "field_119_4_5.jpg\n",
      "field_164_1_19.jpg\n",
      "field_79_6_5.jpg\n",
      "field_24_6_1.jpg\n",
      "field_21_1_1.jpg\n",
      "field_61_5_3.jpg\n",
      "field_36_1_3.jpg\n",
      "field_1_3_0.jpg\n",
      "field_28_V_0.jpg\n",
      "field_67_K_0.jpg\n",
      "field_116_3_7.jpg\n",
      "field_176_5_12.jpg\n",
      "field_158_1_17.jpg\n",
      "field_38_L_2.jpg\n",
      "field_22_0_1.jpg\n",
      "field_3_W_0.jpg\n",
      "field_97_4_3.jpg\n",
      "field_180_2_14.jpg\n",
      "field_64_W_4.jpg\n",
      "field_52_1_5.jpg\n",
      "field_17_5_0.jpg\n",
      "field_120_0_7.jpg\n",
      "field_167_4_7.jpg\n",
      "field_105_D_2.jpg\n",
      "field_161_7_12.jpg\n",
      "field_89_2_4.jpg\n",
      "field_90_3_5.jpg\n",
      "field_148_4_6.jpg\n",
      "field_15_2_1.jpg\n",
      "field_185_9_5.jpg\n",
      "field_170_5_11.jpg\n",
      "field_138_7_10.jpg\n",
      "field_86_7_6.jpg\n",
      "field_129_1_13.jpg\n",
      "field_165_1_20.jpg\n",
      "field_125_C_1.jpg\n",
      "field_106_V_1.jpg\n",
      "field_82_S_3.jpg\n",
      "field_114_1_11.jpg\n",
      "field_143_T_5.jpg\n",
      "field_102_4_4.jpg\n",
      "field_135_2_9.jpg\n",
      "field_56_3_3.jpg\n",
      "field_115_2_7.jpg\n",
      "field_49_C_0.jpg\n",
      "field_31_Z_0.jpg\n",
      "field_18_1_0.jpg\n",
      "field_144_T_6.jpg\n",
      "field_48_A_0.jpg\n",
      "field_51_7_2.jpg\n",
      "field_159_0_14.jpg\n",
      "field_104_L_3.jpg\n",
      "field_147_0_10.jpg\n",
      "field_62_A_1.jpg\n",
      "field_110_1_10.jpg\n",
      "field_99_1_8.jpg\n",
      "field_92_9_2.jpg\n",
      "field_35_6_2.jpg\n",
      "field_136_2_10.jpg\n",
      "field_122_2_8.jpg\n",
      "field_140_5_8.jpg\n",
      "field_43_1_4.jpg\n",
      "field_154_0_11.jpg\n",
      "field_157_7_11.jpg\n",
      "field_34_0_2.jpg\n",
      "field_132_3_8.jpg\n",
      "field_172_3_10.jpg\n",
      "field_166_0_16.jpg\n",
      "field_80_9_1.jpg\n",
      "field_88_2_3.jpg\n",
      "field_7_2_0.jpg\n",
      "field_111_T_3.jpg\n",
      "field_124_A_3.jpg\n",
      "field_118_1_12.jpg\n",
      "field_16_9_0.jpg\n",
      "field_189_5_14.jpg\n",
      "field_128_0_8.jpg\n",
      "field_54_5_1.jpg\n",
      "field_123_5_5.jpg\n",
      "field_103_6_9.jpg\n",
      "field_74_S_2.jpg\n",
      "field_121_8_3.jpg\n",
      "field_69_3_4.jpg\n",
      "field_77_6_4.jpg\n",
      "field_68_E_1.jpg\n",
      "field_153_1_16.jpg\n",
      "field_57_h_0.jpg\n",
      "field_71_6_3.jpg\n",
      "field_40_3_2.jpg\n",
      "field_187_0_17.jpg\n",
      "field_181_8_4.jpg\n",
      "field_70_E_2.jpg\n",
      "field_160_2_12.jpg\n",
      "field_25_L_1.jpg\n",
      "field_112_3_6.jpg\n",
      "field_83_W_6.jpg\n",
      "field_81_6_6.jpg\n",
      "field_175_1_24.jpg\n",
      "field_50_Z_2.jpg\n",
      "field_130_7_9.jpg\n",
      "field_190_5_15.jpg\n",
      "field_113_0_6.jpg\n",
      "field_72_1_6.jpg\n",
      "field_66_N_1.jpg\n",
      "field_156_0_13.jpg\n",
      "field_4_N_0.jpg\n",
      "field_39_Z_1.jpg\n",
      "field_186_3_12.jpg\n",
      "field_93_8_2.jpg\n",
      "field_76_W_5.jpg\n",
      "field_95_1_7.jpg\n",
      "field_108_2_6.jpg\n",
      "field_0_E_0.jpg\n",
      "field_6_D_0.jpg\n",
      "field_100_6_8.jpg\n",
      "field_183_3_11.jpg\n",
      "field_163_1_18.jpg\n",
      "field_12_W_2.jpg\n",
      "field_173_1_22.jpg\n",
      "field_37_I_1.jpg\n",
      "field_91_2_5.jpg\n",
      "field_184_1_26.jpg\n",
      "field_137_0_9.jpg\n",
      "field_98_0_4.jpg\n",
      "field_9_7_0.jpg\n",
      "field_168_3_9.jpg\n",
      "field_14_7_1.jpg\n",
      "field_150_1_15.jpg\n",
      "field_139_1_14.jpg\n",
      "field_19_4_0.jpg\n",
      "field_171_1_21.jpg\n",
      "field_149_5_9.jpg\n",
      "field_53_7_3.jpg\n",
      "field_41_T_1.jpg\n",
      "field_55_5_2.jpg\n",
      "field_30_O_0.jpg\n",
      "field_46_8_1.jpg\n",
      "field_29_I_0.jpg\n",
      "field_134_r_0.jpg\n",
      "field_96_6_7.jpg\n",
      "field_78_7_5.jpg\n",
      "field_26_D_1.jpg\n",
      "field_192_0_18.jpg\n",
      "field_58_U_0.jpg\n",
      "field_85_W_7.jpg\n",
      "field_174_1_23.jpg\n",
      "field_162_0_15.jpg\n",
      "field_60_T_2.jpg\n",
      "field_133_5_7.jpg\n",
      "field_44_4_2.jpg\n",
      "field_20_0_0.jpg\n",
      "field_11_W_1.jpg\n",
      "field_94_5_4.jpg\n",
      "field_101_0_5.jpg\n"
     ]
    }
   ],
   "source": [
    "# Preprocessing loop\n",
    "min_roi = {\"px2\": None, \"shape\": None, 'image':None}\n",
    "for img_path in img_paths:\n",
    "    img_name = img_path.split(\"/\")[1]\n",
    "    cls = img_name.split(\"_\")[0]\n",
    "    \n",
    "    img = cv2.imread(img_path)\n",
    "    bw_img = bw(img_path)\n",
    "    gauss_img = gauss_blur(bw_img)\n",
    "    print(img_name)\n",
    "    roi_img = roi(bw_img, gauss_img, cls)\n",
    "    result = pad_resize(roi_img)\n",
    "    \n",
    "    cv2.imwrite(f'{OUTPUT_FOLDER}/{img_name}',result)\n",
    "    "
   ]
  },
  {
   "cell_type": "markdown",
   "metadata": {},
   "source": [
    "My thoughts on the images that aren't pre-processed properly...\n",
    "\n",
    "*First case.*\n",
    "\n",
    "Image cropped without enough padding. One example could be field_64_W_4.jpg. It complicates the ROI extraction, because it generates rectangles for each sliced part. And to put them back together  To fix this we could add more `if...else` trying to catch this edge cases, which is very time consuming. \n",
    "\n",
    "\n",
    "*Second case.* \n",
    "\n",
    "Image cropped along with form lines, being the latter more vivid than the actual character. One example could be field_137_0_9.jpg and field_153_1_16.jpg. This kind of instances confuse the Otsu algorithm to find an optimal threshold for the image. One possible fix to this could be set a fixed threshold value that do well for most of the images."
   ]
  }
 ],
 "metadata": {
  "kernelspec": {
   "display_name": "Python 3.6.9 64-bit",
   "language": "python",
   "name": "python36964bit2b5e73b0cf2041b0952f830b094453db"
  },
  "language_info": {
   "codemirror_mode": {
    "name": "ipython",
    "version": 3
   },
   "file_extension": ".py",
   "mimetype": "text/x-python",
   "name": "python",
   "nbconvert_exporter": "python",
   "pygments_lexer": "ipython3",
   "version": "3.6.9"
  }
 },
 "nbformat": 4,
 "nbformat_minor": 4
}
