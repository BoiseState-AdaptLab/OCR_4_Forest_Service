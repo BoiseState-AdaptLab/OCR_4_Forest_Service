{
 "cells": [
  {
   "cell_type": "code",
   "execution_count": 1,
   "metadata": {},
   "outputs": [],
   "source": [
    "import cv2 as cv\n",
    "from matplotlib import pyplot as plt\n",
    "import csv\n",
    "import PIL\n",
    "from PIL import Image\n",
    "import requests\n",
    "from io import BytesIO\n",
    "from PIL import ImageFilter\n",
    "from PIL import ImageEnhance\n",
    "from IPython.display import display\n",
    "import os.path\n",
    "from os import path"
   ]
  },
  {
   "cell_type": "code",
   "execution_count": 60,
   "metadata": {},
   "outputs": [],
   "source": [
    "# image names\n",
    "image_name = [('h.png', 'h'), ('D.png', 'D'), ('C.png', 'C'), ('1.png', '1'), ('7.png', '7'), ('d_l.png', 'd'), ('3.png', '3'), ('capitalR.png', 'R'), ('capitalB.png', 'B'), ('c_l.png', 'C'),]\n",
    "# create a dictionary to map each letter/digit to a number \n",
    "\n",
    "digits = ['0', '1','2','3','4','5','6','7','8','9', 'A','B','C','D','E',\n",
    "            'F','G','H','I','J','K','L','M','N','O', 'P','Q','R','S','T',\n",
    "            'U','V','W','X','Y', 'Z', 'a','b','d','e','f','g','h','n','q','r','t']\n"
   ]
  },
  {
   "cell_type": "code",
   "execution_count": 61,
   "metadata": {},
   "outputs": [
    {
     "data": {
      "text/plain": [
       "(['h.png',\n",
       "  'D.png',\n",
       "  'C.png',\n",
       "  '1.png',\n",
       "  '7.png',\n",
       "  'd_l.png',\n",
       "  '3.png',\n",
       "  'capitalR.png',\n",
       "  'capitalB.png',\n",
       "  'c_l.png'],\n",
       " ['h', 'D', 'C', '1', '7', 'd', '3', 'R', 'B', 'C'])"
      ]
     },
     "execution_count": 61,
     "metadata": {},
     "output_type": "execute_result"
    }
   ],
   "source": [
    "label_dict = {}\n",
    "counter = 0\n",
    "\n",
    "for dig in digits:\n",
    "    label_dict[dig]=counter\n",
    "    counter = counter + 1\n",
    "\n",
    "names = [name[0] for name in image_name]\n",
    "labels = [label[1] for label in image_name]\n",
    "names, labels"
   ]
  },
  {
   "cell_type": "code",
   "execution_count": 169,
   "metadata": {},
   "outputs": [],
   "source": [
    "file = open(\"test_data.csv\",\"r+\")\n",
    "file.truncate(0)\n",
    "file.close()"
   ]
  },
  {
   "cell_type": "code",
   "execution_count": null,
   "metadata": {},
   "outputs": [],
   "source": []
  },
  {
   "cell_type": "code",
   "execution_count": 1,
   "metadata": {},
   "outputs": [
    {
     "ename": "NameError",
     "evalue": "name 'names' is not defined",
     "output_type": "error",
     "traceback": [
      "\u001b[0;31m---------------------------------------------------------------------------\u001b[0m",
      "\u001b[0;31mNameError\u001b[0m                                 Traceback (most recent call last)",
      "\u001b[0;32m<ipython-input-1-0ba279d743cb>\u001b[0m in \u001b[0;36m<module>\u001b[0;34m\u001b[0m\n\u001b[1;32m      4\u001b[0m \u001b[0;32mfrom\u001b[0m \u001b[0mimutils\u001b[0m\u001b[0;34m.\u001b[0m\u001b[0mcontours\u001b[0m \u001b[0;32mimport\u001b[0m \u001b[0msort_contours\u001b[0m\u001b[0;34m\u001b[0m\u001b[0;34m\u001b[0m\u001b[0m\n\u001b[1;32m      5\u001b[0m \u001b[0mlocation\u001b[0m \u001b[0;34m=\u001b[0m \u001b[0;36m0\u001b[0m\u001b[0;34m\u001b[0m\u001b[0;34m\u001b[0m\u001b[0m\n\u001b[0;32m----> 6\u001b[0;31m \u001b[0;32mfor\u001b[0m \u001b[0mimage\u001b[0m \u001b[0;32min\u001b[0m \u001b[0mnames\u001b[0m\u001b[0;34m:\u001b[0m\u001b[0;34m\u001b[0m\u001b[0;34m\u001b[0m\u001b[0m\n\u001b[0m\u001b[1;32m      7\u001b[0m \u001b[0;34m\u001b[0m\u001b[0m\n\u001b[1;32m      8\u001b[0m     \u001b[0;31m# read the image in\u001b[0m\u001b[0;34m\u001b[0m\u001b[0;34m\u001b[0m\u001b[0;34m\u001b[0m\u001b[0m\n",
      "\u001b[0;31mNameError\u001b[0m: name 'names' is not defined"
     ]
    }
   ],
   "source": [
    "import numpy as np\n",
    "from matplotlib import pyplot as plt\n",
    "import imutils\n",
    "from imutils.contours import sort_contours\n",
    "location = 0\n",
    "for image in names:\n",
    "    \n",
    "    # read the image in\n",
    "    my_path = \"images/\" + image\n",
    "    original = cv.imread(my_path)\n",
    "    #print(original.shape)\n",
    "     #binary thresholding takes the image to balck and white\n",
    "    ret, binaryThresh = cv.threshold(original,127,255,cv.THRESH_BINARY_INV)\n",
    "    #print(binaryThresh.shape)\n",
    "    blurred = cv.GaussianBlur( binaryThresh, (5, 5), 0)\n",
    "    #print(blurred.shape)\n",
    "    edged = cv.Canny(blurred, 30, 150)\n",
    "    #print(edged.shape)\n",
    "\n",
    "    cnts = cv.findContours(edged.copy(), cv.RETR_EXTERNAL,cv.CHAIN_APPROX_SIMPLE)\n",
    "#     cnts = imutils.grab_contours(cnts)\n",
    "#     cnts = sort_contours(cnts, method=\"left-to-right\")[0]\n",
    "    # Get rectangles contains each contour\n",
    "#     rects = [cv.boundingRect(ctr) for ctr in ctrs]\n",
    "\n",
    "    idx =0\n",
    "    \n",
    "    for ctr in ctrs:\n",
    "        idx += 1\n",
    "        x,y,w,h = cv.boundingRect(ctr)\n",
    "        roi=original[y:y+h,x:x+w]\n",
    "        thresh = cv.threshold(roi, 127, 255,cv.THRESH_BINARY_INV)[1]\n",
    "        blurred = cv.GaussianBlur( thresh, (5, 5), 0)\n",
    "        (tH, tW, x) = blurred.shape\n",
    "        if tW > tH:\n",
    "            blurred = imutils.resize(blurred, width=28)\n",
    "        else:\n",
    "            blurred = imutils.resize(blurred, height=28)\n",
    "            \n",
    "\n",
    "   \n",
    "    #print(blurred.shape)\n",
    "    # make sure it's the right shape\n",
    "    #img = roi.reshape(28,28)\n",
    "    #im_blurred = Image.fromarray(blurred)\n",
    "    #img = roi.reshape(28,28)\n",
    "    \n",
    "    new_name = \"blurred/\" + image\n",
    "    cv.imwrite(new_name, blurred)\n",
    "\n",
    "    img = Image.open(new_name)\n",
    "    #print(img.shape)\n",
    "    plt.subplot(),plt.imshow(img),plt.title('Original')\n",
    "    plt.xticks([]), plt.yticks([])\n",
    "    plt.show()\n",
    "    \n",
    "    \n",
    "    pix = []\n",
    "    \n",
    "     #classification in number\n",
    "    classi = data_dict[image]\n",
    "    numeric_class = class_dict[classi]\n",
    "   \n",
    "    #the first column in the csv file is the classification\n",
    "    pix.append(numeric_class)\n",
    "    \n",
    "#     plt.subplot(),plt.imshow(img),plt.title('Original')\n",
    "#     plt.xticks([]), plt.yticks([])\n",
    "#     plt.show()\n",
    "    \n",
    "#     for x in range(28):\n",
    "#         print(x)\n",
    "#         for y in range(28):\n",
    "#             print(y)\n",
    "#             rbg_val = img.getpixel((x,y))\n",
    "          \n",
    "#             if rbg_val is not (255, 255, 255, 255):\n",
    "# #                 (x,y) = (0, 0, 0, 0)\n",
    "#                 img = Image.new( 'RGB', (0,0), \"white\")\n",
    "\n",
    "\n",
    "\n",
    "    #iterate through each pixel in the image and store its RBG value into a list\n",
    "    for x in range(28):\n",
    "        for y in range(28):\n",
    "            rgb_val = img.getpixel((x,y))\n",
    "            #print(\"values\", rbg_val)\n",
    "            #print(type(rgb_val))\n",
    "            #for val in rgb_val:\n",
    "                #if val < 55:\n",
    "#                     img = Image.new( 'RGB', (0,0), \"white\")\n",
    "                    \n",
    "   \n",
    "                \n",
    "                \n",
    "    #pix.append(rbg_val)\n",
    "            \n",
    "#             if rbg_val is (0,0,0):\n",
    "#                 print(\"it's not black\")\n",
    "          \n",
    "#             if rbg_val is (0,0,0):\n",
    "#                 print(\"it's not black\")\n",
    "#                 img = Image.new( 'RGB', (255,255), \"white\")\n",
    "   \n",
    "\n",
    "            \n",
    "\n",
    "#     with open('test_data.csv', 'a', newline='') as file:\n",
    "#         writer = csv.writer(file)\n",
    "#         writer.writerow(pix)\n",
    "#         file.close()\n",
    "#     location = location + 1\n",
    "    \n",
    "\n",
    "    \n"
   ]
  },
  {
   "cell_type": "code",
   "execution_count": null,
   "metadata": {},
   "outputs": [],
   "source": []
  }
 ],
 "metadata": {
  "kernelspec": {
   "display_name": "Python 3",
   "language": "python",
   "name": "python3"
  },
  "language_info": {
   "codemirror_mode": {
    "name": "ipython",
    "version": 3
   },
   "file_extension": ".py",
   "mimetype": "text/x-python",
   "name": "python",
   "nbconvert_exporter": "python",
   "pygments_lexer": "ipython3",
   "version": "3.7.6"
  }
 },
 "nbformat": 4,
 "nbformat_minor": 4
}
