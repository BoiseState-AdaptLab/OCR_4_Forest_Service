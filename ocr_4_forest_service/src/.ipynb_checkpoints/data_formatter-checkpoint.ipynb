{
 "cells": [
  {
   "cell_type": "code",
   "execution_count": 5,
   "metadata": {},
   "outputs": [],
   "source": [
    "import cv2 as cv\n",
    "from matplotlib import pyplot as plt\n",
    "import csv\n",
    "import json"
   ]
  },
  {
   "cell_type": "code",
   "execution_count": 6,
   "metadata": {},
   "outputs": [
    {
     "name": "stdout",
     "output_type": "stream",
     "text": [
      "47\n"
     ]
    }
   ],
   "source": [
    "digits = ['0','1','2','3','4','5','6','7','8','9','A','B','C','D','E',\n",
    "            'F','G','H','I','J','K','L','M','N','O','P','Q','R','S','T',\n",
    "            'U','V','W','X','Y', 'Z','a','b','d','e','f','g','h','n','q','r','t']\n",
    "\n",
    "print(len(digits))"
   ]
  },
  {
   "cell_type": "code",
   "execution_count": 7,
   "metadata": {},
   "outputs": [],
   "source": [
    "f = open('../data/testingData.json',)\n",
    "\n",
    "# returns JSON object as \n",
    "# a dictionary\n",
    "data = json.load(f)\n",
    "\n",
    "# create a dictionary to map each letter/digit to a number \n",
    "class_dict = {}\n",
    "data_dict = {}\n",
    "counter = 0\n",
    "\n",
    "# Iterating through the json\n",
    "# list\n",
    "for entry in data['entries']:\n",
    "    data_dict[entry['file_name']] = entry['class']\n",
    "    \n",
    "\n",
    "for dig in digits:\n",
    "    class_dict[dig]=counter\n",
    "    counter = counter + 1\n",
    "    \n"
   ]
  },
  {
   "cell_type": "code",
   "execution_count": 10,
   "metadata": {},
   "outputs": [],
   "source": [
    "names = [name for name in data_dict]\n",
    "labels = [label for label in class_dict]"
   ]
  },
  {
   "cell_type": "code",
   "execution_count": 11,
   "metadata": {},
   "outputs": [],
   "source": [
    "import os.path\n",
    "from os import path"
   ]
  },
  {
   "cell_type": "code",
   "execution_count": 16,
   "metadata": {},
   "outputs": [
    {
     "ename": "KeyError",
     "evalue": "'o'",
     "output_type": "error",
     "traceback": [
      "\u001b[0;31m---------------------------------------------------------------------------\u001b[0m",
      "\u001b[0;31mKeyError\u001b[0m                                  Traceback (most recent call last)",
      "\u001b[0;32m<ipython-input-16-0dc352a3d609>\u001b[0m in \u001b[0;36m<module>\u001b[0;34m\u001b[0m\n\u001b[1;32m     40\u001b[0m     \u001b[0;31m#classification in number\u001b[0m\u001b[0;34m\u001b[0m\u001b[0;34m\u001b[0m\u001b[0;34m\u001b[0m\u001b[0m\n\u001b[1;32m     41\u001b[0m     \u001b[0mclassi\u001b[0m \u001b[0;34m=\u001b[0m \u001b[0mdata_dict\u001b[0m\u001b[0;34m[\u001b[0m\u001b[0mimage\u001b[0m\u001b[0;34m]\u001b[0m\u001b[0;34m\u001b[0m\u001b[0;34m\u001b[0m\u001b[0m\n\u001b[0;32m---> 42\u001b[0;31m     \u001b[0mnumeric_class\u001b[0m \u001b[0;34m=\u001b[0m \u001b[0mclass_dict\u001b[0m\u001b[0;34m[\u001b[0m\u001b[0mclassi\u001b[0m\u001b[0;34m]\u001b[0m\u001b[0;34m\u001b[0m\u001b[0;34m\u001b[0m\u001b[0m\n\u001b[0m\u001b[1;32m     43\u001b[0m \u001b[0;34m\u001b[0m\u001b[0m\n\u001b[1;32m     44\u001b[0m     \u001b[0;31m#the first column in the csv file is the classification\u001b[0m\u001b[0;34m\u001b[0m\u001b[0;34m\u001b[0m\u001b[0;34m\u001b[0m\u001b[0m\n",
      "\u001b[0;31mKeyError\u001b[0m: 'o'"
     ]
    }
   ],
   "source": [
    "import PIL\n",
    "from PIL import Image\n",
    "import requests\n",
    "from io import BytesIO\n",
    "from PIL import ImageFilter\n",
    "from PIL import ImageEnhance\n",
    "from IPython.display import display\n",
    "import csv\n",
    "\n",
    "file = open(\"../test_data.csv\",\"r+\")\n",
    "file.truncate(0)\n",
    "file.close()\n",
    "\n",
    "location = 0\n",
    "\n",
    "for image in names:\n",
    "    #print(image)\n",
    "    # read the image in\n",
    "    my_path = \"../images/\" + image\n",
    "    original = cv.imread(my_path,0)\n",
    "    \n",
    "\n",
    "    #binary thresholding takes the image to balck and white\n",
    "    ret, binaryThresh = cv.threshold(original,127,255,cv.THRESH_BINARY_INV)\n",
    "    \n",
    "    # make sure it's the right shape\n",
    "    img = binaryThresh.reshape(28,28)\n",
    "    \n",
    "    im = Image.fromarray(img)\n",
    "    #im.show()\n",
    "    new_path = \"../output/\" + image\n",
    "    im.save(new_path, 'JPEG')\n",
    "    #img = Image.open(my_path)\n",
    "    #img.show()\n",
    "    \n",
    "    #At this point, the image is ready\n",
    "    #list of RGB values for each pixel in the image\n",
    "    pix = []\n",
    "    \n",
    "    #classification in number\n",
    "    classi = data_dict[image]\n",
    "    numeric_class = class_dict[classi]\n",
    "   \n",
    "    #the first column in the csv file is the classification\n",
    "    pix.append(numeric_class)\n",
    "\n",
    "    #iterate through each pixel in the image and store its RBG value into a list\n",
    "    for x in range(28):\n",
    "        for y in range(28):\n",
    "            rbg_val = im.getpixel((x,y))\n",
    "            #print(rbg_val)\n",
    "            pix.append(rbg_val)\n",
    "    #print(len(pix))\n",
    "  \n",
    "    \n",
    "    with open('../test_data.csv', 'a', newline='') as file:\n",
    "        writer = csv.writer(file)\n",
    "        writer.writerow(pix)\n",
    "        file.close()\n",
    "    location = location + 1\n"
   ]
  }
 ],
 "metadata": {
  "kernelspec": {
   "display_name": "Python 3",
   "language": "python",
   "name": "python3"
  },
  "language_info": {
   "codemirror_mode": {
    "name": "ipython",
    "version": 3
   },
   "file_extension": ".py",
   "mimetype": "text/x-python",
   "name": "python",
   "nbconvert_exporter": "python",
   "pygments_lexer": "ipython3",
   "version": "3.7.6"
  }
 },
 "nbformat": 4,
 "nbformat_minor": 4
}
